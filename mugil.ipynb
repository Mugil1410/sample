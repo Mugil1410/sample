{
 "cells": [
  {
   "cell_type": "code",
   "execution_count": 2,
   "id": "af0e76c9",
   "metadata": {},
   "outputs": [],
   "source": [
    "j=23"
   ]
  },
  {
   "cell_type": "code",
   "execution_count": 1,
   "id": "fa31a62a",
   "metadata": {},
   "outputs": [],
   "source": [
    "i=10"
   ]
  },
  {
   "cell_type": "code",
   "execution_count": 3,
   "id": "6a80af0f",
   "metadata": {},
   "outputs": [],
   "source": [
    "c=i-j"
   ]
  },
  {
   "cell_type": "code",
   "execution_count": 4,
   "id": "a7d52243",
   "metadata": {},
   "outputs": [
    {
     "output_type": "error",
     "ename": "NameError",
     "evalue": "name 'c' is not defined",
     "traceback": [
      "\u001b[1;31m---------------------------------------------------------------------------\u001b[0m",
      "\u001b[1;31mNameError\u001b[0m                                 Traceback (most recent call last)",
      "Input \u001b[1;32mIn [4]\u001b[0m, in \u001b[0;36m<cell line: 1>\u001b[1;34m()\u001b[0m\n\u001b[1;32m----> 1\u001b[0m \u001b[38;5;28mprint\u001b[39m(\u001b[43mc\u001b[49m)\n",
      "\u001b[1;31mNameError\u001b[0m: name 'c' is not defined"
     ]
    }
   ],
   "source": [
    "print(c)"
   ]
  },
  {
   "cell_type": "code",
   "execution_count": null,
   "id": "4345302d",
   "metadata": {},
   "outputs": [],
   "source": []
  }
 ],
 "metadata": {
  "kernelspec": {
   "name": "python3",
   "display_name": "Python 3.9.6 64-bit"
  },
  "language_info": {
   "codemirror_mode": {
    "name": "ipython",
    "version": 3
   },
   "file_extension": ".py",
   "mimetype": "text/x-python",
   "name": "python",
   "nbconvert_exporter": "python",
   "pygments_lexer": "ipython3",
   "version": "3.9.6"
  },
  "interpreter": {
   "hash": "a13ae9c38660578ddfdc2807e6364347af4f0723d55b03567b0c44dd4d78149d"
  }
 },
 "nbformat": 4,
 "nbformat_minor": 5
}