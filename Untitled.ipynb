{
 "cells": [
  {
   "cell_type": "code",
   "execution_count": 1,
   "id": "1b170b00",
   "metadata": {},
   "outputs": [],
   "source": [
    "i=10"
   ]
  },
  {
   "cell_type": "code",
   "execution_count": 2,
   "id": "8784a504",
   "metadata": {},
   "outputs": [],
   "source": [
    "j=23"
   ]
  },
  {
   "cell_type": "code",
   "execution_count": 3,
   "id": "54f5b93d",
   "metadata": {},
   "outputs": [],
   "source": [
    "c=i-j"
   ]
  },
  {
   "cell_type": "code",
   "execution_count": 4,
   "id": "83510cf8",
   "metadata": {},
   "outputs": [
    {
     "name": "stdout",
     "output_type": "stream",
     "text": [
      "-13\n"
     ]
    }
   ],
   "source": [
    "print(c)"
   ]
  },
  {
   "cell_type": "code",
   "execution_count": null,
   "id": "2b6da9e2",
   "metadata": {},
   "outputs": [],
   "source": []
  }
 ],
 "metadata": {
  "kernelspec": {
   "display_name": "Python 3 (ipykernel)",
   "language": "python",
   "name": "python3"
  },
  "language_info": {
   "codemirror_mode": {
    "name": "ipython",
    "version": 3
   },
   "file_extension": ".py",
   "mimetype": "text/x-python",
   "name": "python",
   "nbconvert_exporter": "python",
   "pygments_lexer": "ipython3",
   "version": "3.9.6"
  }
 },
 "nbformat": 4,
 "nbformat_minor": 5
}
